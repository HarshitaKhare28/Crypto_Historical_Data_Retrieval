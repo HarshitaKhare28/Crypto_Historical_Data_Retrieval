{
 "cells": [
  {
   "cell_type": "code",
   "execution_count": 1,
   "metadata": {},
   "outputs": [
    {
     "name": "stdout",
     "output_type": "stream",
     "text": [
      "Collecting scikit-learn\n",
      "  Downloading scikit_learn-1.5.2-cp312-cp312-win_amd64.whl.metadata (13 kB)\n",
      "Requirement already satisfied: numpy>=1.19.5 in c:\\users\\harsh\\appdata\\local\\programs\\python\\python312\\lib\\site-packages (from scikit-learn) (1.26.4)\n",
      "Requirement already satisfied: scipy>=1.6.0 in c:\\users\\harsh\\appdata\\local\\programs\\python\\python312\\lib\\site-packages (from scikit-learn) (1.13.1)\n",
      "Requirement already satisfied: joblib>=1.2.0 in c:\\users\\harsh\\appdata\\local\\programs\\python\\python312\\lib\\site-packages (from scikit-learn) (1.4.2)\n",
      "Collecting threadpoolctl>=3.1.0 (from scikit-learn)\n",
      "  Downloading threadpoolctl-3.5.0-py3-none-any.whl.metadata (13 kB)\n",
      "Downloading scikit_learn-1.5.2-cp312-cp312-win_amd64.whl (11.0 MB)\n",
      "   ---------------------------------------- 0.0/11.0 MB ? eta -:--:--\n",
      "   -------- ------------------------------- 2.4/11.0 MB 12.2 MB/s eta 0:00:01\n",
      "   ---------------- ----------------------- 4.5/11.0 MB 11.2 MB/s eta 0:00:01\n",
      "   --------------------------------- ------ 9.2/11.0 MB 15.4 MB/s eta 0:00:01\n",
      "   ---------------------------------------- 11.0/11.0 MB 16.0 MB/s eta 0:00:00\n",
      "Downloading threadpoolctl-3.5.0-py3-none-any.whl (18 kB)\n",
      "Installing collected packages: threadpoolctl, scikit-learn\n",
      "Successfully installed scikit-learn-1.5.2 threadpoolctl-3.5.0\n",
      "Note: you may need to restart the kernel to use updated packages.\n"
     ]
    },
    {
     "name": "stderr",
     "output_type": "stream",
     "text": [
      "\n",
      "[notice] A new release of pip is available: 24.2 -> 24.3.1\n",
      "[notice] To update, run: python.exe -m pip install --upgrade pip\n"
     ]
    }
   ],
   "source": [
    "%pip install scikit-learn\n"
   ]
  },
  {
   "cell_type": "code",
   "execution_count": 8,
   "metadata": {},
   "outputs": [
    {
     "name": "stdout",
     "output_type": "stream",
     "text": [
      "Model Mean Squared Error: 4.4173677734064345\n",
      "Model R-squared Score: 0.508095180775063\n",
      "Predicted Outcomes: {'Predicted_%_Diff_From_High_Next_Days': -1.9385956976400012, 'Predicted_%_Diff_From_Low_Next_Days': 2.136563355310002}\n"
     ]
    },
    {
     "name": "stderr",
     "output_type": "stream",
     "text": [
      "c:\\Users\\harsh\\AppData\\Local\\Programs\\Python\\Python312\\Lib\\site-packages\\sklearn\\base.py:493: UserWarning: X does not have valid feature names, but RandomForestRegressor was fitted with feature names\n",
      "  warnings.warn(\n"
     ]
    }
   ],
   "source": [
    "import pandas as pd\n",
    "from sklearn.model_selection import train_test_split\n",
    "from sklearn.ensemble import RandomForestRegressor\n",
    "from sklearn.metrics import mean_squared_error, r2_score\n",
    "import pickle\n",
    "\n",
    "def train_model(data: pd.DataFrame):\n",
    "    # Define input features and target variables\n",
    "    feature_columns = [\n",
    "        'Days_Since_High_Last_{}_Days'.format(variable1),\n",
    "        '%_Diff_From_High_Last_{}_Days'.format(variable1),\n",
    "        'Days_Since_Low_Last_{}_Days'.format(variable1),\n",
    "        '%_Diff_From_Low_Last_{}_Days'.format(variable1)\n",
    "    ]\n",
    "    \n",
    "    target_columns = [\n",
    "        '%_Diff_From_High_Next_{}_Days'.format(variable2),\n",
    "        '%_Diff_From_Low_Next_{}_Days'.format(variable2)\n",
    "    ]\n",
    "    \n",
    "    # Drop rows with NaN values in target columns (place this within train_model)\n",
    "    data = data.dropna(subset=target_columns)\n",
    "    \n",
    "    # Extract features and target variables\n",
    "    X = data[feature_columns]\n",
    "    y = data[target_columns]\n",
    "    \n",
    "    # Split data into training and testing sets\n",
    "    X_train, X_test, y_train, y_test = train_test_split(X, y, test_size=0.2, random_state=42)\n",
    "    \n",
    "    # Initialize and train the model\n",
    "    model = RandomForestRegressor(n_estimators=100, random_state=42)\n",
    "    model.fit(X_train, y_train)\n",
    "    \n",
    "    # Evaluate the model on the test set\n",
    "    y_pred = model.predict(X_test)\n",
    "    mse = mean_squared_error(y_test, y_pred)\n",
    "    r2 = r2_score(y_test, y_pred)\n",
    "    \n",
    "    print(f\"Model Mean Squared Error: {mse}\")\n",
    "    print(f\"Model R-squared Score: {r2}\")\n",
    "    \n",
    "    # Save the model to a file for future use\n",
    "    with open(\"crypto_price_predictor.pkl\", \"wb\") as f:\n",
    "        pickle.dump(model, f)\n",
    "    \n",
    "    return model\n",
    "\n",
    "def predict_outcomes(model, days_since_high, diff_from_high, days_since_low, diff_from_low):\n",
    "    \n",
    "    # Prepare input data for prediction\n",
    "    input_data = [[days_since_high, diff_from_high, days_since_low, diff_from_low]]\n",
    "    predicted_diff = model.predict(input_data)[0]\n",
    "    \n",
    "    return {\n",
    "        'Predicted_%_Diff_From_High_Next_Days': predicted_diff[0],\n",
    "        'Predicted_%_Diff_From_Low_Next_Days': predicted_diff[1]\n",
    "    }\n",
    "\n",
    "if __name__ == \"__main__\":\n",
    "    # Load the prepared data with calculated metrics (adjust filename as needed)\n",
    "    data = pd.read_csv(\"crypto_metrics_data.csv\")\n",
    "    \n",
    "    variable1 = 7  \n",
    "    variable2 = 5  \n",
    "    \n",
    "    # Train the model\n",
    "    model = train_model(data)\n",
    "    \n",
    "    days_since_high = 2\n",
    "    diff_from_high = -1.5\n",
    "    days_since_low = 3\n",
    "    diff_from_low = 2.0\n",
    "    \n",
    "    predictions = predict_outcomes(model, days_since_high, diff_from_high, days_since_low, diff_from_low)\n",
    "    print(\"Predicted Outcomes:\", predictions)\n"
   ]
  },
  {
   "cell_type": "code",
   "execution_count": null,
   "metadata": {},
   "outputs": [],
   "source": []
  }
 ],
 "metadata": {
  "kernelspec": {
   "display_name": "Python 3",
   "language": "python",
   "name": "python3"
  },
  "language_info": {
   "codemirror_mode": {
    "name": "ipython",
    "version": 3
   },
   "file_extension": ".py",
   "mimetype": "text/x-python",
   "name": "python",
   "nbconvert_exporter": "python",
   "pygments_lexer": "ipython3",
   "version": "3.12.6"
  }
 },
 "nbformat": 4,
 "nbformat_minor": 2
}
